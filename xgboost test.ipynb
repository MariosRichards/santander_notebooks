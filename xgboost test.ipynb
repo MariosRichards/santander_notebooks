{
 "cells": [
  {
   "cell_type": "code",
   "execution_count": 2,
   "metadata": {
    "collapsed": true
   },
   "outputs": [],
   "source": [
    "import os\n",
    "\n",
    "mingw_path = r'C:\\Program Files\\mingw-w64\\x86_64-5.3.0-posix-seh-rt_v4-rev0\\mingw64\\bin'\n",
    "\n",
    "os.environ['PATH'] = mingw_path + ';' + os.environ['PATH']"
   ]
  },
  {
   "cell_type": "code",
   "execution_count": 3,
   "metadata": {
    "collapsed": false
   },
   "outputs": [
    {
     "name": "stdout",
     "output_type": "stream",
     "text": [
      "[0]\teval-auc:0.500000\ttrain-auc:0.500000\n",
      "[1]\teval-auc:0.500000\ttrain-auc:0.500000\n",
      "[2]\teval-auc:0.500000\ttrain-auc:0.500000\n",
      "[3]\teval-auc:0.500000\ttrain-auc:0.500000\n",
      "[4]\teval-auc:0.500000\ttrain-auc:0.500000\n",
      "[5]\teval-auc:0.500000\ttrain-auc:0.500000\n",
      "[6]\teval-auc:0.500000\ttrain-auc:0.500000\n",
      "[7]\teval-auc:0.500000\ttrain-auc:0.500000\n",
      "[8]\teval-auc:0.500000\ttrain-auc:0.500000\n",
      "[9]\teval-auc:0.500000\ttrain-auc:0.500000\n"
     ]
    }
   ],
   "source": [
    "import xgboost as xgb\n",
    "import numpy as np\n",
    "\n",
    "data = np.random.rand(5,10) # 5 entities, each contains 10 features\n",
    "label = np.random.randint(2, size=5) # binary target\n",
    "dtrain = xgb.DMatrix( data, label=label)\n",
    "\n",
    "dtest = dtrain\n",
    "\n",
    "param = {'bst:max_depth':2, 'bst:eta':1, 'silent':1, 'objective':'binary:logistic' }\n",
    "param['nthread'] = 4\n",
    "param['eval_metric'] = 'auc'\n",
    "\n",
    "evallist  = [(dtest,'eval'), (dtrain,'train')]\n",
    "\n",
    "num_round = 10\n",
    "bst = xgb.train( param, dtrain, num_round, evallist )\n",
    "\n",
    "bst.dump_model('dump.raw.txt')"
   ]
  },
  {
   "cell_type": "code",
   "execution_count": 4,
   "metadata": {
    "collapsed": false
   },
   "outputs": [
    {
     "name": "stdout",
     "output_type": "stream",
     "text": [
      "(76020, 45) (75818, 45)\n"
     ]
    }
   ],
   "source": [
    "import pandas as pd\n",
    "import numpy as np\n",
    "\n",
    "from sklearn.cross_validation import train_test_split\n",
    "from sklearn.metrics import roc_auc_score\n",
    "from sklearn.ensemble import ExtraTreesClassifier\n",
    "from sklearn.feature_selection import SelectFromModel\n",
    "from sklearn.calibration import CalibratedClassifierCV\n",
    "from sklearn.preprocessing import normalize\n",
    "from sklearn.decomposition import PCA\n",
    "\n",
    "import xgboost as xgb\n",
    "\n",
    "train = pd.read_csv(\"train.csv\")\n",
    "test = pd.read_csv(\"test.csv\")\n",
    "\n",
    "# clean and split data\n",
    "\n",
    "# remove constant columns (std = 0)\n",
    "remove = []\n",
    "for col in train.columns:\n",
    "    if train[col].std() == 0:\n",
    "        remove.append(col)\n",
    "\n",
    "train.drop(remove, axis=1, inplace=True)\n",
    "test.drop(remove, axis=1, inplace=True)\n",
    "\n",
    "# remove duplicated columns\n",
    "remove = []\n",
    "cols = train.columns\n",
    "for i in range(len(cols)-1):\n",
    "    v = train[cols[i]].values\n",
    "    for j in range(i+1,len(cols)):\n",
    "        if np.array_equal(v,train[cols[j]].values):\n",
    "            remove.append(cols[j])\n",
    "\n",
    "train.drop(remove, axis=1, inplace=True)\n",
    "test.drop(remove, axis=1, inplace=True)\n",
    "\n",
    "# split data into train and test\n",
    "test_id = test.ID\n",
    "test = test.drop([\"ID\"],axis=1)\n",
    "\n",
    "X = train.drop([\"TARGET\",\"ID\"],axis=1)\n",
    "y = train.TARGET.values\n",
    "\n",
    "features = train.columns[1:-1]\n",
    "\n",
    "# pca\n",
    "pca = PCA(n_components=3)\n",
    "x_train_projected = pca.fit_transform(normalize(train[features], axis=0))\n",
    "x_test_projected = pca.transform(normalize(test[features], axis=0))\n",
    "\n",
    "X.insert(1, 'PCAOne', x_train_projected[:, 0])\n",
    "X.insert(1, 'PCATwo', x_train_projected[:, 1])\n",
    "X.insert(1, 'PCAThree', x_train_projected[:, 2])\n",
    "test.insert(1, 'PCAOne', x_test_projected[:, 0])\n",
    "test.insert(1, 'PCATwo', x_test_projected[:, 1])\n",
    "test.insert(1, 'PCAThree', x_test_projected[:, 2])\n",
    "\n",
    "\n",
    "\n",
    "clf = ExtraTreesClassifier(random_state=1729,bootstrap =True,class_weight = \"balanced\")\n",
    "selector = clf.fit(normalize(X), y)\n",
    "# clf.feature_importances_\n",
    "fs = SelectFromModel(selector, prefit=True)\n",
    "\n",
    "X = fs.transform(X)\n",
    "test = fs.transform(test)\n",
    "\n",
    "print(X.shape,  test.shape)\n",
    "\n",
    "\n",
    "\n",
    "#m2_xgb = xgb.XGBClassifier(n_estimators=110, nthread=-1, max_depth = 4, \\\n",
    "#seed=1729)\n",
    "m2_xgb = xgb.XGBClassifier(missing=np.nan, max_depth=6,\n",
    "n_estimators=350, learning_rate=0.025, nthread=4, subsample=0.95,\n",
    "colsample_bytree=0.85, seed=4242)\n",
    "metLearn = CalibratedClassifierCV(m2_xgb, method='isotonic', cv=10)\n",
    "metLearn.fit(X,y)\n",
    "\n",
    "\n",
    "## # Submission\n",
    "probs = metLearn.predict_proba(test)\n",
    "\n",
    "submission = pd.DataFrame({\"ID\":test_id, \"TARGET\": probs[:,1]})\n",
    "submission.to_csv(\"submission.csv\", index=False)"
   ]
  },
  {
   "cell_type": "code",
   "execution_count": null,
   "metadata": {
    "collapsed": true
   },
   "outputs": [],
   "source": []
  }
 ],
 "metadata": {
  "kernelspec": {
   "display_name": "Python 3",
   "language": "python",
   "name": "python3"
  },
  "language_info": {
   "codemirror_mode": {
    "name": "ipython",
    "version": 3
   },
   "file_extension": ".py",
   "mimetype": "text/x-python",
   "name": "python",
   "nbconvert_exporter": "python",
   "pygments_lexer": "ipython3",
   "version": "3.5.1"
  }
 },
 "nbformat": 4,
 "nbformat_minor": 0
}
